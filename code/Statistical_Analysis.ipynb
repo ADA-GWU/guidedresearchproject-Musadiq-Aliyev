{
 "cells": [
  {
   "cell_type": "markdown",
   "metadata": {},
   "source": [
    "# Libraries"
   ]
  },
  {
   "cell_type": "code",
   "execution_count": 1,
   "metadata": {},
   "outputs": [
    {
     "ename": "ModuleNotFoundError",
     "evalue": "No module named 'plotly.express'",
     "output_type": "error",
     "traceback": [
      "\u001b[0;31m---------------------------------------------------------------------------\u001b[0m",
      "\u001b[0;31mModuleNotFoundError\u001b[0m                       Traceback (most recent call last)",
      "\u001b[0;32m<ipython-input-1-9e71111591ee>\u001b[0m in \u001b[0;36m<module>\u001b[0;34m()\u001b[0m\n\u001b[1;32m      3\u001b[0m \u001b[0;32mfrom\u001b[0m \u001b[0mscipy\u001b[0m \u001b[0;32mimport\u001b[0m \u001b[0mstats\u001b[0m\u001b[0;34m\u001b[0m\u001b[0;34m\u001b[0m\u001b[0m\n\u001b[1;32m      4\u001b[0m \u001b[0;32mimport\u001b[0m \u001b[0mmatplotlib\u001b[0m\u001b[0;34m.\u001b[0m\u001b[0mpyplot\u001b[0m \u001b[0;32mas\u001b[0m \u001b[0mplt\u001b[0m\u001b[0;34m\u001b[0m\u001b[0;34m\u001b[0m\u001b[0m\n\u001b[0;32m----> 5\u001b[0;31m \u001b[0;32mimport\u001b[0m \u001b[0mplotly\u001b[0m\u001b[0;34m.\u001b[0m\u001b[0mexpress\u001b[0m \u001b[0;32mas\u001b[0m \u001b[0mpx\u001b[0m\u001b[0;34m\u001b[0m\u001b[0;34m\u001b[0m\u001b[0m\n\u001b[0m",
      "\u001b[0;31mModuleNotFoundError\u001b[0m: No module named 'plotly.express'"
     ]
    }
   ],
   "source": [
    "import pandas as pd\n",
    "import numpy as np\n",
    "from scipy import stats\n",
    "import matplotlib.pyplot as plt\n",
    "import plotly.express as px"
   ]
  },
  {
   "cell_type": "code",
   "execution_count": null,
   "metadata": {},
   "outputs": [],
   "source": [
    "pd.options.display.float_format = '{:.0f}'.format"
   ]
  },
  {
   "cell_type": "markdown",
   "metadata": {},
   "source": [
    "# Preprocessing"
   ]
  },
  {
   "cell_type": "code",
   "execution_count": null,
   "metadata": {},
   "outputs": [],
   "source": [
    "df= pd.read_parquet('May.parquet')"
   ]
  },
  {
   "cell_type": "code",
   "execution_count": null,
   "metadata": {},
   "outputs": [],
   "source": [
    "df.head()"
   ]
  },
  {
   "cell_type": "code",
   "execution_count": null,
   "metadata": {},
   "outputs": [],
   "source": [
    "def categorization(data):\n",
    "    data['merchant_category']= np.where(data['mcc'].isin(['5942', '5943']), 'Books and stationery',\n",
    "                               np.where(data['mcc'].isin(['7832','7991','7922']), 'Entertainment',\n",
    "                               np.where(data['mcc'].isin(['5137', '5139', '5611', '5621', '5631', '5641', '5651', '5655', '5661', '5681', '5691', '5697', '5698', '5699', '7296']), 'Clothing stores',\n",
    "                               np.where(data['mcc'].isin(['7941', '7230', '7298']), 'Sport and Beauty',\n",
    "                               np.where(data['mcc'].isin(['5812','5814', '5813']), 'Cafe/Restaurant',\n",
    "                               np.where(data['mcc'].isin(['5411']), 'Grocery stores',\n",
    "                               np.where(data['mcc'].isin(['5541', '5542', '5983']), 'Petrol',\n",
    "                               np.where(data['mcc'].isin(['5193', '5992']), 'Flower shops',\n",
    "                               np.where(data['mcc'].isin(['5977']), 'Perfumery',\n",
    "                               np.where(data['mcc'].isin(['5021', '5712']), 'Furniture stores',\n",
    "                               np.where(data['mcc'].isin(['4582', '7011', '4511', '3246', '3543', '3614', '3047', '3182', '3504', '3301', '3640', '3509', '3533', '3826', '3025', '3519', '3685', '3590', '3512', '3612', '3051', '3008', '3068', '3665', '3634', '3649', '3583', '3026', '3256', '3245', '3790']), 'Air ticket and hotel',\n",
    "                               np.where(data['mcc'].isin(['4121']), 'Taxi',\n",
    "                               np.where(data['mcc'].isin(['5732']), 'Electronics stores','Other')))))))))))))\n",
    "    return data"
   ]
  },
  {
   "cell_type": "code",
   "execution_count": null,
   "metadata": {},
   "outputs": [],
   "source": [
    "df= categorization(df)"
   ]
  },
  {
   "cell_type": "code",
   "execution_count": null,
   "metadata": {},
   "outputs": [],
   "source": [
    "del df['trn_id']"
   ]
  },
  {
   "cell_type": "code",
   "execution_count": null,
   "metadata": {},
   "outputs": [],
   "source": [
    "df = df[~df.merchant_category.isin(['Other'])]"
   ]
  },
  {
   "cell_type": "markdown",
   "metadata": {},
   "source": [
    "# Hypothesis Testing"
   ]
  },
  {
   "cell_type": "code",
   "execution_count": null,
   "metadata": {},
   "outputs": [],
   "source": [
    "population=df.copy()"
   ]
  },
  {
   "cell_type": "code",
   "execution_count": null,
   "metadata": {},
   "outputs": [],
   "source": [
    "df = df.sample(n=1000000)"
   ]
  },
  {
   "cell_type": "code",
   "execution_count": null,
   "metadata": {},
   "outputs": [],
   "source": [
    "# Calculate descriptive statistics\n",
    "population_mean = np.mean(population['acc_amt_lcy'])\n",
    "sample_mean = np.mean(df['acc_amt_lcy'])\n",
    "population_std = np.std(population['acc_amt_lcy'])\n",
    "sample_std = np.std(df['acc_amt_lcy'])\n",
    "\n",
    "# Print descriptive statistics\n",
    "print(\"Population Mean:\", population_mean)\n",
    "print(\"Sample Mean:\", sample_mean)\n",
    "print(\"Population Standard Deviation:\", population_std)\n",
    "print(\"Sample Standard Deviation:\", sample_std)\n",
    "\n",
    "# Perform hypothesis testing\n",
    "t_stat, p_value = stats.ttest_1samp(df['acc_amt_lcy'], population_mean)\n",
    "print(\"T-statistic:\", t_stat)\n",
    "print(\"P-value:\", p_value)\n",
    "\n",
    "# # Calculate confidence interval\n",
    "# confidence_interval = stats.t.interval(0.95, len(df['acc_amt_lcy'])-1, loc=sample_mean, scale=stats.sem(df['acc_amt_lcy']))\n",
    "# print(\"Confidence Interval (95%):\", confidence_interval)"
   ]
  },
  {
   "cell_type": "markdown",
   "metadata": {},
   "source": [
    "# Statistical Analysis : Moments"
   ]
  },
  {
   "cell_type": "code",
   "execution_count": null,
   "metadata": {},
   "outputs": [],
   "source": [
    "# Calculate the moments\n",
    "column_data = df['acc_amt_lcy']\n",
    "\n",
    "# First moment (mean)\n",
    "mean = np.mean(column_data)\n",
    "\n",
    "# Second central moment (variance)\n",
    "variance = np.var(column_data)\n",
    "\n",
    "# Third central moment (skewness)\n",
    "skewness = np.mean((column_data - mean) ** 3) / np.power(variance, 3/2)\n",
    "\n",
    "# Fourth central moment (kurtosis)\n",
    "kurtosis = np.mean((column_data - mean) ** 4) / np.power(variance, 2)\n",
    "\n",
    "print(\"Mean:\", mean)\n",
    "print(\"Variance:\", variance)\n",
    "print(\"Skewness:\", skewness)\n",
    "print(\"Kurtosis:\", kurtosis)\n",
    "\n",
    "\n",
    "\n",
    "\n",
    "\n",
    "\n",
    "\n"
   ]
  },
  {
   "cell_type": "markdown",
   "metadata": {},
   "source": [
    "# Exploratory Data Analysis"
   ]
  },
  {
   "cell_type": "code",
   "execution_count": null,
   "metadata": {},
   "outputs": [],
   "source": [
    "fig = px.histogram(df, x='acc_amt_lcy', range_x=[0, 40], nbins=100000)\n",
    "\n",
    "fig.show()"
   ]
  },
  {
   "cell_type": "code",
   "execution_count": null,
   "metadata": {},
   "outputs": [],
   "source": [
    "fig = px.bar(x=df.merchant_category.value_counts().index, y=df.merchant_category.value_counts().values)\n",
    "\n",
    "# Add axis labels\n",
    "fig.update_layout(\n",
    "    xaxis_title=\"Merchant Category\",\n",
    "    yaxis_title=\"Count\"\n",
    ")\n",
    "\n",
    "fig.show()"
   ]
  },
  {
   "cell_type": "code",
   "execution_count": null,
   "metadata": {},
   "outputs": [],
   "source": [
    "fig = px.bar(x=df.groupby('merchant_category')['acc_amt_lcy'].sum().index, y=df.groupby('merchant_category')['acc_amt_lcy'].sum())\n",
    "\n",
    "# Add axis labels\n",
    "fig.update_layout(\n",
    "    xaxis_title=\"Merchant Category\",\n",
    "    yaxis_title=\"Amount\"\n",
    ")\n",
    "\n",
    "fig.show()"
   ]
  },
  {
   "cell_type": "code",
   "execution_count": null,
   "metadata": {},
   "outputs": [],
   "source": [
    "fig = px.box(df, x='merchant_category', y='acc_amt_lcy')\n",
    "\n",
    "fig.update_layout(\n",
    "    title='Box Plot of Amount by Merchant Category',\n",
    "    xaxis_title='Merchant Category',\n",
    "    yaxis_title='Amount (LCY)'\n",
    ")\n",
    "\n",
    "fig.show()"
   ]
  },
  {
   "cell_type": "code",
   "execution_count": null,
   "metadata": {},
   "outputs": [],
   "source": []
  }
 ],
 "metadata": {
  "kernelspec": {
   "display_name": "Python 3",
   "language": "python",
   "name": "python3"
  },
  "language_info": {
   "codemirror_mode": {
    "name": "ipython",
    "version": 3
   },
   "file_extension": ".py",
   "mimetype": "text/x-python",
   "name": "python",
   "nbconvert_exporter": "python",
   "pygments_lexer": "ipython3",
   "version": "3.7.2"
  }
 },
 "nbformat": 4,
 "nbformat_minor": 4
}
